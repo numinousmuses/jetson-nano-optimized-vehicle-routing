{
 "cells": [
  {
   "cell_type": "markdown",
   "id": "79c5cfb6",
   "metadata": {},
   "source": [
    "# <center><font color=#76B900 size=\"+3\"><b>**CVRPTW Exercise**</b></font></center>\n",
    "---"
   ]
  },
  {
   "cell_type": "markdown",
   "id": "e6c05907",
   "metadata": {},
   "source": [
    "**Learning Objectives:**\n",
    "- Test your ability to model a routing optimization problem with cuOpt"
   ]
  },
  {
   "cell_type": "markdown",
   "id": "503dc43d",
   "metadata": {},
   "source": [
    "### Exercise\n",
    "You have the following information and constraints:\n",
    "- 9 Locations:\n",
    "    - 1 Depot (e.g. Office or Warehouse)\n",
    "    - 8 (Clients/Customer)\n",
    "- Number of vehicles 6\n",
    "- Each vehicle has an associated capacities\n",
    "- Each location has a specific time window within which services/deliveries need to be performed\n",
    "- Demand may differ across locations\n",
    "- Each vehicle has a time window of its availability\n",
    "- Each vehicle has an associated priority\n",
    "\n",
    "problem details are provided below, use NVIDIA cuOpt to determine an optimized route plan"
   ]
  },
  {
   "cell_type": "code",
   "execution_count": null,
   "id": "c05b7e80",
   "metadata": {},
   "outputs": [],
   "source": [
    "coordinates      = [ [3, 2],   [4, 8], [7, 2], [1, 3], [8, 9], [5, 1], [2, 5], [4, 2], [0, 1]]\n",
    "locations        = [ \"Depot\",   \"A\",    \"B\",    \"C\",    \"D\",    \"E\",    \"F\",    \"G\",   \"H\"   ]\n",
    "# Number of orders to be delivered at each location, this can be number of orders, weight or volumne\n",
    "orders           = [   0,        3,      4,      4,      3,      4,      3,      2,     5    ]\n",
    "# Earliest a delivery can be made\n",
    "l_tw_earliest    = [   0,        3,      5,      3,      1,      8,      4,      0,     10   ]\n",
    "# Latest a delivery can be made\n",
    "l_tw_latest      = [1000,       20,     30,     15,     20,     12,     40,     30,     20   ]\n",
    "# Service time required for the delivery\n",
    "l_tw_service     = [   0,         1,     1,      1,       1,     2,      3,      1,     2    ]\n",
    "n_locations      = len(locations)\n",
    "n_vehicles       = 6\n",
    "# Number of orders each vehicle can carry, this can be number of orders, weight or volumne\n",
    "vehicle_capacity = [3,   8,  7,  9,  5,  10]\n",
    "# Earliest a vehicle can start \n",
    "v_tw_earliest    = [0,   1,  3,  5,  20, 30]\n",
    "# Latest a vehicle will be working\n",
    "v_tw_latest      = [80, 40, 30, 80, 100, 40]\n",
    "# Vehicle Priority, lower value higher priority\n",
    "v_priorities     = [0,   3,  2,  1,  2, 100]\n",
    "min_vehicles     = 4\n",
    "n_climbers       = 64\n",
    "time_limit       = 0.1\n",
    "\n",
    "colors      = [\"blue\", \"white\", \"green\", \"pink\", \"yellow\", \"orange\"]"
   ]
  },
  {
   "cell_type": "markdown",
   "id": "871afc50",
   "metadata": {},
   "source": [
    "\n",
    "**Hints and answers have been provided below under each section.**"
   ]
  },
  {
   "cell_type": "markdown",
   "id": "6f17ead5",
   "metadata": {},
   "source": [
    "## Import Libraries"
   ]
  },
  {
   "cell_type": "code",
   "execution_count": null,
   "id": "d7edb16d",
   "metadata": {},
   "outputs": [],
   "source": [
    "import cuopt\n",
    "import cudf\n",
    "import pandas as pd\n",
    "from scipy.spatial import distance\n",
    "import helper_function.helper_map as helper_map"
   ]
  },
  {
   "cell_type": "markdown",
   "id": "a25d538f",
   "metadata": {},
   "source": [
    "## Create DataFrame\n",
    "\n",
    "Create a Pandas dataframe from given coordinates, this would be used to generate distance/cost matrix"
   ]
  },
  {
   "cell_type": "code",
   "execution_count": null,
   "id": "c521b631",
   "metadata": {},
   "outputs": [],
   "source": [
    "df = # Add your code here\n",
    "\n",
    "df"
   ]
  },
  {
   "cell_type": "markdown",
   "id": "939de1af",
   "metadata": {},
   "source": [
    "<details><summary>Answer</summary>\n",
    "<p>\n",
    "df = pd.DataFrame(coordinates, columns=['xcord', 'ycord'], index=locations)\n",
    "</p></details>"
   ]
  },
  {
   "cell_type": "markdown",
   "id": "a8509fd1",
   "metadata": {},
   "source": [
    "### Visualize Depot and Destinations"
   ]
  },
  {
   "cell_type": "code",
   "execution_count": null,
   "id": "6e339400",
   "metadata": {},
   "outputs": [],
   "source": [
    "# Not a mandatory, you can skip this\n",
    "helper_map.gen_plot(df).show()"
   ]
  },
  {
   "cell_type": "markdown",
   "id": "1a1b8cc9",
   "metadata": {},
   "source": [
    "## Create Distance/Cost Matrix\n",
    "\n",
    "Create a cuDF dataframe from the distance matrix"
   ]
  },
  {
   "cell_type": "code",
   "execution_count": null,
   "id": "799c851b",
   "metadata": {},
   "outputs": [],
   "source": [
    "#distance_matrix = # Add your code here to create distance matrix\n",
    "\n",
    "#distance_matrix = # Add your code create cuDF Dataframe\n",
    "\n",
    "distance_matrix"
   ]
  },
  {
   "cell_type": "markdown",
   "id": "cbab11a9",
   "metadata": {},
   "source": [
    "<details><summary>Answer</summary>\n",
    "<p>\n",
    "distance_matrix = distance.cdist(df.values, df.values, \"euclidean\")\n",
    "    \n",
    "distance_matrix = cudf.DataFrame(distance_matrix, index=df.index, columns=df.index)\n",
    "</p></details>"
   ]
  },
  {
   "cell_type": "markdown",
   "id": "27b65b98",
   "metadata": {},
   "source": [
    "## Create Data-Model\n",
    "\n",
    "**Hint**: What are you planning to do with vehicle priority ? Use `set_vehicle_priority`"
   ]
  },
  {
   "cell_type": "code",
   "execution_count": null,
   "id": "2810e028",
   "metadata": {},
   "outputs": [],
   "source": [
    "# data_model ="
   ]
  },
  {
   "cell_type": "markdown",
   "id": "10c92918",
   "metadata": {},
   "source": [
    "<details><summary>Answer</summary>\n",
    "<p>\n",
    "data_model = cuopt.DataModelView(n_locations, n_vehicles)\n",
    "    \n",
    "data_model.set_matrix(distance_matrix)\n",
    "    \n",
    "data_model.add_capacity_dimension(\n",
    "    \"demand\",\n",
    "    cudf.Series(orders),\n",
    "    cudf.Series(vehicle_capacity)\n",
    ")\n",
    "    \n",
    "data_model.add_time_window(\n",
    "    cudf.Series(l_tw_earliest),\n",
    "    cudf.Series(l_tw_latest), \n",
    "    cudf.Series(l_tw_service)\n",
    ")\n",
    "    \n",
    "data_model.set_vehicle_time_windows(\n",
    "    cudf.Series(v_tw_earliest), \n",
    "    cudf.Series(v_tw_latest)\n",
    ")\n",
    "    \n",
    "#### Priority for vehicles\n",
    "data_model.set_vehicle_priorities(cudf.Series(v_priorities))\n",
    "</p></details>"
   ]
  },
  {
   "cell_type": "markdown",
   "id": "057011aa",
   "metadata": {},
   "source": [
    "## Create Solver Instance"
   ]
  },
  {
   "cell_type": "code",
   "execution_count": null,
   "id": "0babbc0e",
   "metadata": {},
   "outputs": [],
   "source": [
    "#solver =\n",
    "\n",
    "#routing_solution = "
   ]
  },
  {
   "cell_type": "markdown",
   "id": "816c2233",
   "metadata": {},
   "source": [
    "<details><summary>Answer</summary>\n",
    "<p>\n",
    "solver = cuopt.Solver(data_model)\n",
    "    \n",
    "solver.set_number_of_climbers(n_climbers)\n",
    "    \n",
    "solver.set_time_limit(time_limit)\n",
    "    \n",
    "solver.set_min_vehicles(min_vehicles)\n",
    "    \n",
    "routing_solution = solver.solve()\n",
    "</p></details>"
   ]
  },
  {
   "cell_type": "markdown",
   "id": "0feef20c",
   "metadata": {},
   "source": [
    "## CVRPTW Results"
   ]
  },
  {
   "cell_type": "code",
   "execution_count": null,
   "id": "bc5107ca",
   "metadata": {},
   "outputs": [],
   "source": [
    "if routing_solution.get_status() == 0:\n",
    "    print(\"Cost for the routing in distance: \", routing_solution.final_cost)\n",
    "    print(\"Vehicle count to complete routing: \", routing_solution.vehicle_count)\n",
    "    helper_map.show_vehicle_routes(routing_solution.route, locations)\n",
    "    routing_solution.route\n",
    "else:\n",
    "    print(\"NVIDIA cuOpt Failed to find a solution with status : \", routing_solution.get_status())"
   ]
  },
  {
   "cell_type": "code",
   "execution_count": null,
   "id": "808153ab",
   "metadata": {},
   "outputs": [],
   "source": [
    "helper_map.map_vehicle_routes(df, routing_solution.route, colors).show()"
   ]
  },
  {
   "cell_type": "markdown",
   "id": "75958698",
   "metadata": {},
   "source": [
    "If you can see a `Map` and see a `Final Cost` reported, this means NVIDIA cuOpt was able to find an optimized route sequence. \n",
    "\n",
    "From here you can modify the input data to determine its impact on result and explore other supported APIs."
   ]
  },
  {
   "cell_type": "code",
   "execution_count": null,
   "id": "6cd086d2",
   "metadata": {},
   "outputs": [],
   "source": [
    "import IPython\n",
    "app = IPython.Application.instance()\n",
    "app.kernel.do_shutdown(True)"
   ]
  },
  {
   "cell_type": "markdown",
   "id": "c25f950b",
   "metadata": {},
   "source": [
    "\n",
    "## What's Next?\n",
    "\n",
    "Real-world problems can potentially contain 1000s of locations and 100s of vehicles. NVIDIA cuOpt can scale to deliver unique value for problems of this size.\n",
    "\n",
    "#### Next is an optional notebook showcasing a large CVRPTW benchmark problem. [please click to continue](./05_cvrptw_homberger_cuopt.ipynb). "
   ]
  },
  {
   "cell_type": "markdown",
   "id": "b893b87a-ae16-4b91-a09d-1cb54cbee9a9",
   "metadata": {},
   "source": [
    "<center><a href=\"https://www.nvidia.com/dli\"> <img src=\"images/DLI_Header.png\" alt=\"Header\" style=\"width: 400px;\"/> </a></center>"
   ]
  }
 ],
 "metadata": {
  "kernelspec": {
   "display_name": "Python 3 (ipykernel)",
   "language": "python",
   "name": "python3"
  },
  "language_info": {
   "codemirror_mode": {
    "name": "ipython",
    "version": 3
   },
   "file_extension": ".py",
   "mimetype": "text/x-python",
   "name": "python",
   "nbconvert_exporter": "python",
   "pygments_lexer": "ipython3",
   "version": "3.8.12"
  }
 },
 "nbformat": 4,
 "nbformat_minor": 5
}
